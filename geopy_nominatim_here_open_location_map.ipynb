{
 "cells": [
  {
   "cell_type": "code",
   "execution_count": null,
   "metadata": {},
   "outputs": [],
   "source": [
    "# %load ../_data/standard_import.txt\n",
    "\n",
    "%matplotlib inline\n",
    "\n",
    "import numpy as np\n",
    "import pandas as pd\n",
    "import matplotlib as mpl\n",
    "import matplotlib.pyplot as plt\n",
    "import seaborn as sns\n",
    "\n",
    "plt.style.use('seaborn-white')"
   ]
  },
  {
   "cell_type": "markdown",
   "metadata": {},
   "source": [
    "## geoPy\n",
    "\n",
    "[read the docs](http://geopy.readthedocs.io/en/stable/)"
   ]
  },
  {
   "cell_type": "code",
   "execution_count": null,
   "metadata": {},
   "outputs": [],
   "source": [
    "# !pip install geopy"
   ]
  },
  {
   "cell_type": "markdown",
   "metadata": {},
   "source": [
    "#### Nominatim - Open Street Map\n",
    "\n",
    "https://wiki.openstreetmap.org/wiki/Nominatim"
   ]
  },
  {
   "cell_type": "code",
   "execution_count": null,
   "metadata": {},
   "outputs": [],
   "source": [
    "from geopy.geocoders import Nominatim\n",
    "geolocator = Nominatim()\n",
    "location = geolocator.geocode(\"9, Singel, Amsterdam\")\n",
    "location.raw\n",
    "location.address\n",
    "(location.latitude, location.longitude)\n"
   ]
  },
  {
   "cell_type": "code",
   "execution_count": null,
   "metadata": {},
   "outputs": [],
   "source": [
    "location = geolocator.reverse(\"52.25, 4.99\")"
   ]
  },
  {
   "cell_type": "code",
   "execution_count": null,
   "metadata": {},
   "outputs": [],
   "source": [
    "from geopy.geocoders import GoogleV3\n",
    "geolocator = GoogleV3(format_string=\"%s, Netherlands\")\n",
    "address, (latitude, longitude) = geolocator.geocode(\"amsterdam\")\n",
    "address, latitude, longitude"
   ]
  },
  {
   "cell_type": "code",
   "execution_count": null,
   "metadata": {},
   "outputs": [],
   "source": [
    "from geopy.geocoders import GeoNames\n",
    "geolocator = GeoNames(username='user_name_here', format_string=\"%s\")\n",
    "geolocator.geocode(\"amsterdam\")"
   ]
  },
  {
   "cell_type": "code",
   "execution_count": null,
   "metadata": {},
   "outputs": [],
   "source": [
    "current_ip_location = !curl ipinfo.io/loc\n",
    "latlon = current_ip_location[-1].split(',')\n",
    "geolocator.reverse('{}, {}'.format(latlon[0], latlon[1]))"
   ]
  },
  {
   "cell_type": "markdown",
   "metadata": {},
   "source": [
    "#### IP info"
   ]
  },
  {
   "cell_type": "code",
   "execution_count": null,
   "metadata": {},
   "outputs": [],
   "source": [
    "ip_location = !curl ipinfo.io\n",
    "ip_location"
   ]
  },
  {
   "cell_type": "markdown",
   "metadata": {},
   "source": [
    "### GeoPy - geolocator"
   ]
  },
  {
   "cell_type": "code",
   "execution_count": null,
   "metadata": {},
   "outputs": [],
   "source": [
    "def ip_location():\n",
    "    \"\"\"Returns latlon of IP location of provider.\"\"\"\n",
    "    current_ip_location = !curl ipinfo.io/loc\n",
    "    latlon = current_ip_location[-1].split(',')\n",
    "    return geolocator.reverse('{}, {}'.format(latlon[0], latlon[1])), latlon[0], latlon[1], 0.\n",
    "ip_location()"
   ]
  },
  {
   "cell_type": "code",
   "execution_count": null,
   "metadata": {},
   "outputs": [],
   "source": [
    "from geopy.geocoders import Nominatim\n",
    "geolocator = Nominatim()\n",
    "location = geolocator.geocode(\"9, Singel, Amsterdam\")\n",
    "location.raw\n",
    "location.address\n",
    "(location.latitude, location.longitude)\n"
   ]
  },
  {
   "cell_type": "markdown",
   "metadata": {},
   "source": [
    "## Here"
   ]
  },
  {
   "cell_type": "code",
   "execution_count": null,
   "metadata": {},
   "outputs": [],
   "source": [
    "import json\n",
    "import os\n",
    "import platform\n",
    "import re\n",
    "import ssl\n",
    "import subprocess\n",
    "import requests\n",
    "import urllib.request\n",
    "from urllib.request import urlretrieve\n",
    "import plistlib\n",
    "\n",
    "from PIL import Image"
   ]
  },
  {
   "cell_type": "markdown",
   "metadata": {},
   "source": [
    "#### Credentials"
   ]
  },
  {
   "cell_type": "code",
   "execution_count": null,
   "metadata": {},
   "outputs": [],
   "source": [
    "import os, pickle\n",
    "\n",
    "pickle_file='../_credentials/here_credentials.pkl'\n",
    "if not os.path.exists(pickle_file):\n",
    "    Here={}\n",
    "    Here['app_id'] = 'wL...9'\n",
    "    Here['app_code'] = '9..._-A'\n",
    "    with open(pickle_file, 'wb') as f:\n",
    "        pickle.dump(Here, f)\n",
    "else:\n",
    "    Here=pickle.load(open(pickle_file,'rb'))"
   ]
  },
  {
   "cell_type": "markdown",
   "metadata": {},
   "source": [
    "#### URL and headers for HERE location api"
   ]
  },
  {
   "cell_type": "code",
   "execution_count": null,
   "metadata": {},
   "outputs": [],
   "source": [
    "context = ssl._create_unverified_context()\n",
    "positioning_headers = {'Content-Type': 'application/json'}\n",
    "positioning_url = 'https://pos.api.here.com/positioning/v1/locate?app_id={}&app_code={}'.format(Here['app_id'], Here['app_code'])\n",
    "rev_geocoder_url = 'https://reverse.geocoder.api.here.com/6.2/reversegeocode.json?prox='"
   ]
  },
  {
   "cell_type": "markdown",
   "metadata": {},
   "source": [
    "### Search address"
   ]
  },
  {
   "cell_type": "code",
   "execution_count": null,
   "metadata": {},
   "outputs": [],
   "source": [
    "def geo_address(api_url, searchtext):\n",
    "    \"\"\"Lookup address details as JSON\n",
    "    Decode UTF-8 bytes to Unicode and convert single quotes to double quotes to make it valid JSON.\n",
    "    Load the JSON to a Python list & dump it back out as formatted JSON.\"\"\"\n",
    "    \n",
    "    http = '{}?app_id={}&app_code={}&searchtext={}'.format(api_url, Here['app_id'], Here['app_code'], searchtext)\n",
    "    content = requests.get(http).content\n",
    "    my_json = content.decode('utf8').replace(\"'\", '\"')\n",
    "    data = json.loads(my_json)\n",
    "    \n",
    "    return data"
   ]
  },
  {
   "cell_type": "code",
   "execution_count": null,
   "metadata": {},
   "outputs": [],
   "source": [
    "def recursive_keys(json, values=False):\n",
    "    \"\"\"Recursively get keys and list items\"\"\"\n",
    "    if type(json) == dict:\n",
    "        for key, value in json.items():\n",
    "            if values==False: value = ''\n",
    "            if type(json[key]) == str: \n",
    "                print('--', key, ':',value)\n",
    "                continue\n",
    "            elif type(json[key]) == list: \n",
    "                print('list', key, ':', value)\n",
    "                recursive_keys(json[key]) # [0]\n",
    "            elif type(json[key]) == dict: \n",
    "                print('dict', key, ':', value)\n",
    "                recursive_keys(json[key])\n",
    "\n",
    "    elif type(json) == list:\n",
    "        for i, item in enumerate(json):\n",
    "            print(i, end=' ')\n",
    "            recursive_keys(json[i])"
   ]
  },
  {
   "cell_type": "code",
   "execution_count": null,
   "metadata": {},
   "outputs": [],
   "source": [
    "api_url_places = 'https://geocoder.cit.api.here.com/6.2/geocode.json'\n",
    "geo_bb = geo_address(api_url_places, '9, Singel, Amsterdam')\n",
    "geo_bb"
   ]
  },
  {
   "cell_type": "code",
   "execution_count": null,
   "metadata": {},
   "outputs": [],
   "source": [
    "geo_address(api_url_places, '9, Singel, Amsterdam')['Response']['View'][0]['Result'][0]['Location']['NavigationPosition'][0]"
   ]
  },
  {
   "cell_type": "code",
   "execution_count": null,
   "metadata": {},
   "outputs": [],
   "source": [
    "recursive_keys(geo_bb)"
   ]
  },
  {
   "cell_type": "code",
   "execution_count": null,
   "metadata": {},
   "outputs": [],
   "source": [
    "def geo_location(api_url, payload):\n",
    "    \"\"\"Lookup address details as JSON\n",
    "    Decode UTF-8 bytes to Unicode and convert single quotes to double quotes to make it valid JSON.\n",
    "    Load the JSON to a Python list & dump it back out as formatted JSON.\"\"\"\n",
    "\n",
    "    http = '{}?app_id={}&app_code={}'.format(api_url, Here['app_id'], Here['app_code'])\n",
    "    headers = {'Content-Type': 'application/json'}\n",
    "    r = requests.post(http, data=json.dumps(payload), headers=headers)\n",
    "    print(r.status_code, r.reason)\n",
    "    my_json = r.content.decode('utf8').replace(\"'\", '\"')\n",
    "    \n",
    "    return json.loads(my_json)"
   ]
  },
  {
   "cell_type": "code",
   "execution_count": null,
   "metadata": {},
   "outputs": [],
   "source": [
    "api_url_locate = 'https://pos.cit.api.here.com/positioning/v1/locate'\n",
    "payload = {\"wlan\":[\n",
    "    {\"mac\":\"6a:d8:2f:0e:69:17\", \"powrx\":-70},\n",
    "    {\"mac\":\"38:d8:2f:0e:69:16\", \"powrx\":-72},\n",
    "    {\"mac\":\"80:ea:96:eb:90:47\", \"powrx\":-61},\n",
    "    {\"mac\":\"48:ee:0c:f1:27:d9\", \"powrx\":-71},\n",
    "    {\"mac\":\"80:ea:96:eb:90:46\", \"powrx\":-55}]}\n",
    "\n",
    "loc_bb = geo_location(api_url_locate, payload)\n",
    "loc_bb"
   ]
  },
  {
   "cell_type": "code",
   "execution_count": null,
   "metadata": {},
   "outputs": [],
   "source": [
    "def rev_geocoder(lat, lon, radius='N/A'):\n",
    "    results = json.load(urllib.request.urlopen(\n",
    "        '{}{},{},1000&mode=retrieveAddresses&maxResults=3&gen=8&app_id={}&app_code={}'.format(\n",
    "            rev_geocoder_url, lat, lon, Here['app_id'], Here['app_code']), context=context)\n",
    "                       )['Response']['View'][0]['Result']\n",
    "    for result in results:\n",
    "        if result['MatchQuality'].get('Street'):\n",
    "            address = result['Location']['Address']['Label']\n",
    "            break\n",
    "        else:\n",
    "            continue\n",
    "    print('\\nHERE location: {}, (lat: {},lon: {}, radius: {})'.format(address, lat, lon, radius))\n",
    "\n",
    "    return address"
   ]
  },
  {
   "cell_type": "code",
   "execution_count": null,
   "metadata": {},
   "outputs": [],
   "source": [
    "def mia_saved_map(lon, lat, radius):\n",
    "    mia_url = 'http://image.maps.api.here.com/mia/1.6/mapview?c={},{}&u={}&w=1280&h=1024' \\\n",
    "              '&app_id={}&app_code={}&t=3'.format(lat, lon, radius, Here['app_id'], Here['app_code'])\n",
    "    picFileName = \"miaPic.jpg\"\n",
    "    urlretrieve(mia_url, picFileName)\n",
    "    Image.open(picFileName).show()"
   ]
  },
  {
   "cell_type": "code",
   "execution_count": null,
   "metadata": {},
   "outputs": [],
   "source": [
    "def xml2dict(xml):\n",
    "    \"\"\"Convert XML to dictionary format.\"\"\"\n",
    "    import plistlib\n",
    "    return plistlib.loads(str.encode(xml), fmt=plistlib.FMT_XML)"
   ]
  },
  {
   "cell_type": "code",
   "execution_count": null,
   "metadata": {},
   "outputs": [],
   "source": [
    "def format_bssid(bssid):\n",
    "    \"\"\"Format BSSID when needed.\"\"\"\n",
    "    if not re.findall('\\w\\w:\\w\\w:\\w\\w:\\w\\w:\\w\\w:\\w\\w', bssid):\n",
    "        bssid_arr = bssid.split(':')\n",
    "        bssid_modified_arr = []\n",
    "        for bssid_elem in bssid_arr:\n",
    "            if len(bssid_elem) == 1:\n",
    "                bssid_elem = '0{}'.format(bssid_elem)\n",
    "            bssid_modified_arr.append(bssid_elem)\n",
    "        bssid = ':'.join(bssid_modified_arr)\n",
    "    return bssid"
   ]
  },
  {
   "cell_type": "code",
   "execution_count": null,
   "metadata": {},
   "outputs": [],
   "source": [
    "def wifi_addresses(printout=True):\n",
    "    \"\"\"Return payload for POST request into HERE api.\"\"\"\n",
    "    \n",
    "    # Library to convert literal dict to type dict\n",
    "    import ast\n",
    "    \n",
    "    try:\n",
    "        mac_list = set()    \n",
    "        # Windows\n",
    "        if platform.system() == 'Windows':\n",
    "            results = subprocess.check_output([\"netsh\", \"wlan\", \"show\", \"network\", \"bssid\"])\n",
    "            results = results.decode(\"ascii\")  # needed in python 3\n",
    "            list = results.replace('\\r', '').split('\\n')\n",
    "            for element in list:\n",
    "                if re.match('.*BSSID.*', element):\n",
    "                    mac_list.add('{\"mac\": \"' + (element.split(' : ')[1]) + '\"}')\n",
    "        # macOS           \n",
    "        elif platform.system() == 'Darwin':\n",
    "\n",
    "            # Save WIFI list in XML format\n",
    "            wifi_list = os.popen('airport -s -x').read()\n",
    "            open('wifi_plist.txt', 'w').write(wifi_list)\n",
    "\n",
    "            # Convert XML to JSON/dict format\n",
    "            hotspots_plist = xml2dict(wifi_list)\n",
    "\n",
    "            for hotspot in hotspots_plist:\n",
    "                ssid_str = hotspot['SSID_STR']\n",
    "                rssi = hotspot['RSSI']\n",
    "                bssid = format_bssid(hotspot['BSSID'])\n",
    "                print('SSID: {}, channel: {}, Mac:{}, signal: {}'.format(ssid_str, hotspot['CHANNEL'], bssid, rssi))\n",
    "\n",
    "                mac_list.add('{\\\"mac\\\":\\\"' + bssid + '\\\", \\\"powrx\\\":' + str(rssi) + '}')  # BSSID + Powrx\n",
    "    except:\n",
    "        return None\n",
    "    \n",
    "    payload = '\\n{\"wlan\":[\\n' + ',\\n'.join(i for i in mac_list) + ']}'\n",
    "    if printout: print('\\nPOST request body:\\n{}'.format(payload))\n",
    "    \n",
    "    return ast.literal_eval(payload)"
   ]
  },
  {
   "cell_type": "code",
   "execution_count": null,
   "metadata": {},
   "outputs": [],
   "source": [
    "def wifi_positioning(saved_map=False):\n",
    "    \"\"\"Return current location based on nearby wifi-hotspots.\"\"\"\n",
    "    \n",
    "    payload = wifi_addresses()\n",
    "    \n",
    "    if payload is None:\n",
    "        print('WIFI positioning failed, returning IP location from provider')\n",
    "        _, lat, lon, radius = ip_location()\n",
    "        latlon = '{}, {}'.format(lat, lon)\n",
    "    else:\n",
    "        api_url_locate = 'https://pos.cit.api.here.com/positioning/v1/locate'\n",
    "        json_result = geo_location(api_url_locate, payload)\n",
    "        lat, lon = json_result['location']['lat'], json_result['location']['lng']\n",
    "        latlon = '{}, {}'.format(lat, lon)\n",
    "        radius = json_result['location']['accuracy']\n",
    "\n",
    "    # Print address and lat, lon, radius and open/show location on map\n",
    "    print('\\ngeoPy Nominatim location: ', geolocator.reverse(latlon))\n",
    "    rev_geocoder(lat, lon, radius)\n",
    "    here_maps = 'https://wego.here.com/directions/mix/{},{}/?map={},{},15'.format(lat, lon, lat, lon)\n",
    "    google_maps = 'https://www.google.com/maps/search/{},{}/@{},{},17z'.format(lat, lon, lat, lon)\n",
    "    !open -a Safari $here_maps; open -a Safari $google_maps\n",
    "    if saved_map: mia_saved_map(lon, lat, radius)\n",
    "        \n",
    "    return lat, lon"
   ]
  },
  {
   "cell_type": "code",
   "execution_count": null,
   "metadata": {},
   "outputs": [],
   "source": [
    "lat, lon = wifi_positioning()"
   ]
  },
  {
   "cell_type": "code",
   "execution_count": null,
   "metadata": {},
   "outputs": [],
   "source": []
  }
 ],
 "metadata": {
  "language_info": {
   "name": "python",
   "pygments_lexer": "ipython3"
  }
 },
 "nbformat": 4,
 "nbformat_minor": 2
}
