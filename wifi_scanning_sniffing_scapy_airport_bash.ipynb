{
 "cells": [
  {
   "cell_type": "markdown",
   "metadata": {},
   "source": [
    "# WIFI scanning with MacOS airport\n",
    "\n",
    "LEGACY COMMANDS:  \n",
    "\n",
    "Supported arguments:  \n",
    "-c[[arg]] –channel=[[arg]] Set arbitrary channel on the card  \n",
    "-z –disassociate Disassociate from any network  \n",
    "-I –getinfo Print current wireless status, e.g. signal info, BSSID, port type etc.  \n",
    "-s[[arg]] –scan=[[arg]] Perform a wireless broadcast scan.  \n",
    "\n",
    "Will perform a directed scan if the optional [arg] is provided  \n",
    "-x –xml Print info as XML  \n",
    "-P –psk Create PSK from specified pass phrase and SSID.  \n",
    "\n",
    "The following additional arguments must be specified with this command:  \n",
    "–password=[arg] Specify a WPA password  \n",
    "–ssid=[arg] Specify SSID when creating a PSK  \n",
    "-h –help Show this help  \n",
    "\n",
    "Configuring preferences (requires admin privileges)  \n",
    "sudo airport en1 prefs JoinMode=Preferred RememberRecentNetworks=NO RequireAdmin=YES\n",
    "\n",
    "https://developer.apple.com/library/archive/qa/qa1176/_index.html#//apple_ref/doc/uid/DTS10001707-CH1-SECNOTES\n",
    "\n",
    "http://osxdaily.com/2007/01/18/airport-the-little-known-command-line-wireless-utility/"
   ]
  },
  {
   "cell_type": "markdown",
   "metadata": {},
   "source": [
    "#### Show network"
   ]
  },
  {
   "cell_type": "code",
   "execution_count": null,
   "metadata": {},
   "outputs": [],
   "source": [
    "!ifconfig"
   ]
  },
  {
   "cell_type": "code",
   "execution_count": null,
   "metadata": {},
   "outputs": [],
   "source": [
    "!ifconfig en0"
   ]
  },
  {
   "cell_type": "code",
   "execution_count": null,
   "metadata": {},
   "outputs": [],
   "source": [
    "!ifconfig | grep broadcast | arp -a"
   ]
  },
  {
   "cell_type": "markdown",
   "metadata": {},
   "source": [
    "#### Scan local network for connected clients\n",
    "\n",
    "arp: Address Resolution Protocol"
   ]
  },
  {
   "cell_type": "code",
   "execution_count": null,
   "metadata": {},
   "outputs": [],
   "source": [
    "!ifconfig | grep broadcast | arp -a | grep '^?'"
   ]
  },
  {
   "cell_type": "markdown",
   "metadata": {},
   "source": [
    "#### Scan local network for connected devices"
   ]
  },
  {
   "cell_type": "code",
   "execution_count": null,
   "metadata": {},
   "outputs": [],
   "source": [
    "!arp -a | grep -v '^?'"
   ]
  },
  {
   "cell_type": "code",
   "execution_count": null,
   "metadata": {},
   "outputs": [],
   "source": [
    "# !for ip in $(seq 1 254); do ping -c 1 192.168.0.$ip -W 1; done"
   ]
  },
  {
   "cell_type": "markdown",
   "metadata": {},
   "source": [
    "### Scan wifi networks"
   ]
  },
  {
   "cell_type": "code",
   "execution_count": null,
   "metadata": {},
   "outputs": [],
   "source": [
    "!/System/Library/PrivateFrameworks/Apple80211.framework/Versions/Current/Resources/airport en0 scan"
   ]
  },
  {
   "cell_type": "markdown",
   "metadata": {},
   "source": [
    "#### Create symbolic link (in terminal)\n",
    "\n",
    "Create a file link, like aliased shortcut, from `/usr/local/bin/airport` (in `$PATH`) to `/System/Library/PrivateFrameworks/Apple80211.framework/Versions/Current/Resources/airport`  \n",
    "You can now just use `airport` to execute the file"
   ]
  },
  {
   "cell_type": "markdown",
   "metadata": {},
   "source": [
    "```bash\n",
    "sudo ln -s /System/Library/PrivateFrameworks/Apple80211.framework/Versions/Current/Resources/airport /usr/local/bin/airport\n",
    "password🗝:\n",
    "```"
   ]
  },
  {
   "cell_type": "markdown",
   "metadata": {},
   "source": [
    "#### Scan wifi networks"
   ]
  },
  {
   "cell_type": "code",
   "execution_count": null,
   "metadata": {},
   "outputs": [],
   "source": [
    "hotspots = !airport scan\n",
    "hotspots"
   ]
  },
  {
   "cell_type": "code",
   "execution_count": null,
   "metadata": {},
   "outputs": [],
   "source": []
  },
  {
   "cell_type": "code",
   "execution_count": null,
   "metadata": {},
   "outputs": [],
   "source": [
    "!airport -s"
   ]
  },
  {
   "cell_type": "code",
   "execution_count": null,
   "metadata": {},
   "outputs": [],
   "source": [
    "!airport -s | grep NONE"
   ]
  },
  {
   "cell_type": "markdown",
   "metadata": {},
   "source": [
    "#### Show host router details"
   ]
  },
  {
   "cell_type": "code",
   "execution_count": null,
   "metadata": {},
   "outputs": [],
   "source": [
    "!airport -I"
   ]
  },
  {
   "cell_type": "code",
   "execution_count": null,
   "metadata": {},
   "outputs": [],
   "source": [
    "!sudo airport sniff 6 -AllUserland"
   ]
  },
  {
   "cell_type": "markdown",
   "metadata": {},
   "source": [
    "#### Monitor Wi-Fi Signal Strength from Command Line on Mac OS X and View RSSI History"
   ]
  },
  {
   "cell_type": "code",
   "execution_count": null,
   "metadata": {},
   "outputs": [],
   "source": [
    "!while x=1; do airport -I | grep CtlRSSI; sleep 0.5; done"
   ]
  },
  {
   "cell_type": "code",
   "execution_count": null,
   "metadata": {},
   "outputs": [],
   "source": [
    "!while x=1; do airport -I | grep CtlRSSI | sed -e 's/^.*://g' | xargs -I SIGNAL printf \"\\rRSSI dBm: SIGNAL\"; sleep 0.5; done"
   ]
  },
  {
   "cell_type": "markdown",
   "metadata": {},
   "source": [
    "#### Scan WIFI networks every 5 secs"
   ]
  },
  {
   "cell_type": "code",
   "execution_count": null,
   "metadata": {},
   "outputs": [],
   "source": [
    "!while x=1; do airport -s; sleep 0.5; done"
   ]
  },
  {
   "cell_type": "code",
   "execution_count": null,
   "metadata": {},
   "outputs": [],
   "source": []
  },
  {
   "cell_type": "markdown",
   "metadata": {},
   "source": [
    "#### Sniff packets on channel\n",
    "\n",
    "Goto terminal and start sniffer.  \n",
    "All packets will be saved in //tmp/airportSniffXXXXXX.cap file, which can then be read with scapy.  \n",
    "Stop sniffer with control-c.  "
   ]
  },
  {
   "cell_type": "markdown",
   "metadata": {},
   "source": [
    "```bash\n",
    "sudo airport sniff 6\n",
    "password🗝:\n",
    "```"
   ]
  },
  {
   "cell_type": "markdown",
   "metadata": {},
   "source": [
    "#### Read pcap sniffer file"
   ]
  },
  {
   "cell_type": "code",
   "execution_count": null,
   "metadata": {},
   "outputs": [],
   "source": [
    "from scapy.all import *\n",
    "sniff_file = '../../../../tmp/{}'.format('airportSniffG5T3A4.cap')\n",
    "!head $sniff_file\n",
    "pkts = rdpcap(sniff_file)\n",
    "pkts"
   ]
  },
  {
   "cell_type": "markdown",
   "metadata": {},
   "source": [
    "#### Read pcap file with tcpdump\n",
    "\n",
    "http://osxdaily.com/2012/02/28/find-scan-wireless-networks-from-the-command-line-in-mac-os-x/"
   ]
  },
  {
   "cell_type": "code",
   "execution_count": null,
   "metadata": {},
   "outputs": [],
   "source": [
    "!tcpdump -r $sniff_file | grep -i reassoc"
   ]
  },
  {
   "cell_type": "code",
   "execution_count": null,
   "metadata": {},
   "outputs": [],
   "source": [
    "!tcpdump -r $sniff_file | less"
   ]
  },
  {
   "cell_type": "code",
   "execution_count": null,
   "metadata": {},
   "outputs": [],
   "source": [
    "!tcpdump -r $sniff_file | grep oui"
   ]
  },
  {
   "cell_type": "code",
   "execution_count": null,
   "metadata": {},
   "outputs": [],
   "source": [
    "!tcpdump -r $sniff_file"
   ]
  },
  {
   "cell_type": "code",
   "execution_count": null,
   "metadata": {},
   "outputs": [],
   "source": [
    "def read_pcap(sniff_file):\n",
    "    \"\"\"Read .pcap file from airport sniff <channel>.\n",
    "    https://www.programcreek.com/python/example/103591/scapy.all.rdpcap\"\"\"\n",
    "    pkts = rdpcap(sniff_file)\n",
    "    \n",
    "    for pkt in pkts:\n",
    "        if pkt.haslayer(Dot11):\n",
    "#             print(dir(pkt))\n",
    "            print('pkt.type: ', pkt.type, pkt.addr2)\n",
    "#             print('pkt.getlayer: ', pkt.getlayer)\n",
    "#             print(pkt[RadioTap], pkt[Dot11], pkt[Dot11QoS], pkt[Dot11WEP])\n",
    "\n",
    "            if pkt.type == 0 and pkt.subtype == 8 :\n",
    "                print('Available SSID: {} mac: {}'.format(pkt.info, pkt.addr2))\n",
    "            \n",
    "            # monitor ARP\n",
    "            if ARP in pkt and pkt[ARP].op in (1,2): #who-has or is-at\n",
    "                print(pkt.sprintf(\"%ARP.hwsrc% %ARP.psrc%\"))\n",
    "\n",
    "read_pcap(sniff_file)"
   ]
  },
  {
   "cell_type": "code",
   "execution_count": null,
   "metadata": {},
   "outputs": [],
   "source": [
    "def print_highest_layer(sniff_file):\n",
    "    \"\"\"\"\"\"\n",
    "    pkts = rdpcap(sniff_file)\n",
    "    for pkt in pkts:\n",
    "        try:\n",
    "            print(pkt.lastlayer)\n",
    "        except:\n",
    "            continue\n",
    "    \n",
    "print_highest_layer(sniff_file)"
   ]
  },
  {
   "cell_type": "code",
   "execution_count": null,
   "metadata": {},
   "outputs": [],
   "source": [
    "def get_key_in(pcap_file):\n",
    "    \"\"\" Extract keyboard input reports from a pcap file. \n",
    "     The extraction depends only on the size of packets. \"\"\"\n",
    "    \n",
    "    pcap = rdpcap(pcap_file)\n",
    "    in_reports = []\n",
    "    \n",
    "    for p in pcap:\n",
    "        if len(p) == 35:\n",
    "            in_reports.append(p.load[-8:])\n",
    "            \n",
    "    return in_reports \n",
    "\n",
    "get_key_in(sniff_file)"
   ]
  },
  {
   "cell_type": "code",
   "execution_count": null,
   "metadata": {},
   "outputs": [],
   "source": [
    "def read_pcap(filename):\n",
    "    \"\"\"\n",
    "    @param filename: Filesystem path to the pcap.\n",
    "\n",
    "    Returns:\n",
    "      [{\"client\": \"\\x17\\x52\\x15\"}, {\"server\": \"\\x17\\x15\\x13\"}]\n",
    "    \"\"\"\n",
    "    from scapy.all import IP, Raw, rdpcap\n",
    "\n",
    "    packets = rdpcap(filename)\n",
    "\n",
    "    checking_first_packet = True\n",
    "    client_ip_addr = None\n",
    "    server_ip_addr = None\n",
    "\n",
    "    ssl_packets = []\n",
    "    messages = []\n",
    "\n",
    "    \"\"\"\n",
    "    pcap assumptions:\n",
    "\n",
    "    pcap only contains packets exchanged between a Tor client and a Tor\n",
    "    server.  (This assumption makes sure that there are only two IP addresses\n",
    "    in the pcap file)\n",
    "\n",
    "    The first packet of the pcap is sent from the client to the server. (This\n",
    "    assumption is used to get the IP address of the client.)\n",
    "\n",
    "    All captured packets are TLS packets: that is TCP session\n",
    "    establishment/teardown packets should be filtered out (no SYN/SYN+ACK)\n",
    "    \"\"\"\n",
    "\n",
    "    \"\"\"\n",
    "    Minimally validate the pcap and also find out what's the client\n",
    "    and server IP addresses.\n",
    "    \"\"\"\n",
    "    for packet in packets:\n",
    "        if checking_first_packet:\n",
    "            client_ip_addr = packet[IP].src\n",
    "            checking_first_packet = False\n",
    "        else:\n",
    "            if packet[IP].src != client_ip_addr:\n",
    "                server_ip_addr = packet[IP].src\n",
    "\n",
    "        try:\n",
    "            if (packet[Raw]):\n",
    "                ssl_packets.append(packet)\n",
    "        except IndexError:\n",
    "            pass\n",
    "\n",
    "    \"\"\"Form our list.\"\"\"\n",
    "    for packet in ssl_packets:\n",
    "        if packet[IP].src == client_ip_addr:\n",
    "            messages.append({\"client\": str(packet[Raw])})\n",
    "        elif packet[IP].src == server_ip_addr:\n",
    "            messages.append({\"server\": str(packet[Raw])})\n",
    "        else:\n",
    "            raise(\"Detected third IP address! pcap is corrupted.\")\n",
    "\n",
    "    return messages \n",
    "\n",
    "read_pcap(sniff_file)"
   ]
  },
  {
   "cell_type": "code",
   "execution_count": null,
   "metadata": {},
   "outputs": [],
   "source": [
    "def cap_session(pcap_path):\n",
    "    capture = rdpcap(pcap_path)  # TODO when go live change to session capture\n",
    "    first = True\n",
    "    curr_session = None\n",
    "    session_info = [0, ] * 3\n",
    "    for pkt in capture:\n",
    "        if not pkt.haslayer(TCP) and not pkt.haslayer(IP) and pkt.len <= 0:\n",
    "            continue\n",
    "        \n",
    "        if first:\n",
    "            first = False\n",
    "            if is_client(pkt):\n",
    "                session_info[0] = pkt[IP].src\n",
    "                session_info[1] = pkt[IP].dst\n",
    "                session_info[2] = \"TCP\"\n",
    "                curr_session = Session(pkt, session_info, session_info[0])\n",
    "            else:\n",
    "                session_info[0] = pkt[IP].dst\n",
    "                session_info[1] = pkt[IP].src\n",
    "                session_info[2] = \"TCP\"\n",
    "                curr_session = Session(pkt, session_info, session_info[0])\n",
    "        else:\n",
    "            curr_session.update_session(pkt)\n",
    "\n",
    "    return curr_session \n",
    "\n",
    "cap_session(sniff_file)"
   ]
  },
  {
   "cell_type": "markdown",
   "metadata": {},
   "source": [
    "Theif fm.haslayer(Dot11):statementislikeafilter,whichpassesonlythe Dot11traffic;Dot11indicates802.11traffic.Thenextif((fm.type == 0) & (fm. subtype==8)): statementisanotherfilter,whichpassestrafficwherethe\n",
    "\n",
    "frametype is 0 and the frame subtype is 8; \n",
    "type 0 represents the management frame and subtype 8representsthebeaconframe.\n",
    "Inthenextline,theif fm.addr2 not in ap_list: statement is used to remove the redundancy; if AP's MAC address is not in ap_list, then it appends the list and adds the address to the list as stated in the next line. The next line prints the output. \n",
    "\n",
    "You might want to obtain all the clients of a particular AP. In this situation, you have to capture the probe request frame. In scapy, this is called Dot11ProbeReq.\n",
    "\n",
    "The probe request frame contains some interesting information such as the source address and SSID, as highlighted in the preceding screenshot.\n",
    "\n",
    "“The Info field in the 802.11 Beacon Frame typically contains the name of the hidden network. In hidden network”\n"
   ]
  },
  {
   "cell_type": "code",
   "execution_count": null,
   "metadata": {},
   "outputs": [],
   "source": [
    "import struct\n",
    "\n",
    "def sniffDot11(p):\n",
    "    if p.haslayer(Dot11Beacon):\n",
    "        bcon = p.getlayer(Dot11Beacon).info\n",
    "        print(struct.pack('B'*len(bcon), *bcon).decode('utf8'), p.getlayer(Dot11).addr2)\n",
    "        if p.getlayer(Dot11Beacon).info == '':\n",
    "            addr2 = p.getlayer(Dot11).addr2\n",
    "            if addr2 not in hiddenNets:\n",
    "                print('Detected Hidden SSID: {} with MAC: {}'.format(bcon_, addr2))\n",
    "\n",
    "sniff(offline=sniff_file, prn=sniffDot11, store=0)"
   ]
  },
  {
   "cell_type": "code",
   "execution_count": null,
   "metadata": {},
   "outputs": [],
   "source": [
    "import sys\n",
    "import struct\n",
    "\n",
    "hiddenNets = []\n",
    "unhiddenNets = []\n",
    "\n",
    "def sniffDot11(p):\n",
    "    \"\"\"Show hidden network SSID\"\"\"\n",
    "    if p.haslayer(Dot11ProbeResp):\n",
    "        addr2 = p.getlayer(Dot11).addr2\n",
    "        netName = p.getlayer(Dot11ProbeResp).info\n",
    "#         print(netName)\n",
    "        print(struct.pack('B'*len(netName), *netName).decode('latin1', errors='strict'))\n",
    "        if (addr2 in hiddenNets) & (addr2 not in unhiddenNets):\n",
    "            netName = p.getlayer(Dot11ProbeResp).info\n",
    "            print('[+] Decloaked Hidden SSID: {} for MAC: {} '.format(netName, addr2))\n",
    "            unhiddenNets.append(addr2)\n",
    "    if p.haslayer(Dot11Beacon):\n",
    "        if p.getlayer(Dot11Beacon).info == '':\n",
    "            addr2 = p.getlayer(Dot11).addr2\n",
    "            if addr2 not in hiddenNets:\n",
    "                print('[-] Detected Hidden SSID: with MAC: {}'.format(addr2))\n",
    "                hiddenNets.append(addr2)\n",
    "\n",
    "\n",
    "sniff(offline=sniff_file, prn=sniffDot11)"
   ]
  },
  {
   "cell_type": "code",
   "execution_count": null,
   "metadata": {},
   "outputs": [],
   "source": [
    "from scapy.all import *\n",
    "import struct\n",
    "\n",
    "probe_req = []\n",
    "ap_name = 'appelflap' #input(\"Please enter the AP name \")\n",
    "\n",
    "def probesniff(fm):\n",
    "    \"\"\"\"\"\"\n",
    "    if fm.haslayer(Dot11ProbeReq):\n",
    "        netName = fm.getlayer(Dot11ProbeReq).info\n",
    "        client_name = struct.pack('256s', netName).decode('latin1')\n",
    "        print(client_name, fm.addr2)\n",
    "        if client_name == ap_name:\n",
    "            if fm.addr2 not in probe_req:\n",
    "                print(\"New Probe Request: \", client_name)\n",
    "                print(\"MAC \", fm.addr2)\n",
    "                probe_req.append(fm.addr2)\n",
    "    \n",
    "sniff(offline=sniff_file, prn=probesniff, store=0)\n",
    "probe_req"
   ]
  },
  {
   "cell_type": "code",
   "execution_count": null,
   "metadata": {},
   "outputs": [],
   "source": [
    "i = 1\n",
    "def info(fm):\n",
    "    \"\"\"Detect authentication attempts/attacks\n",
    "    subtype 12: deauth frame\n",
    "    \"\"\"\n",
    "    if fm.haslayer(Dot11):\n",
    "        if ((fm.type==0) & (fm.subtype==12)):\n",
    "            global i\n",
    "            print(fm.subtype) #(dir(fm))\n",
    "#             client_name = fm.info | 'none'\n",
    "            print(\"Deauth detected #{}, client mac: {}, {}\".format(i, fm.addr2, fm.getlayer(Dot11).info))\n",
    "            i=i+1\n",
    "            \n",
    "sniff(offline=sniff_file, prn=info, store=0)"
   ]
  },
  {
   "cell_type": "code",
   "execution_count": null,
   "metadata": {},
   "outputs": [],
   "source": []
  },
  {
   "cell_type": "code",
   "execution_count": null,
   "metadata": {},
   "outputs": [],
   "source": []
  },
  {
   "cell_type": "code",
   "execution_count": null,
   "metadata": {},
   "outputs": [],
   "source": [
    "import pyshark"
   ]
  },
  {
   "cell_type": "code",
   "execution_count": null,
   "metadata": {},
   "outputs": [],
   "source": [
    "cap = pyshark.FileCapture(sniff_file, only_summaries=True)\n",
    "dir(cap)\n",
    "# cap[0]['WLAN']._field_names"
   ]
  },
  {
   "cell_type": "code",
   "execution_count": null,
   "metadata": {},
   "outputs": [],
   "source": [
    "pkts = rdpcap(sniff_file)\n",
    "sessions = pkts.sessions()\n",
    "for session in sessions:\n",
    "    print(sessions)\n",
    "    for packet in sessions[session]:\n",
    "#         print(packet)\n",
    "        try:\n",
    "            if packet[TCP].dport == 80 or packet[TCP].sport == 80:\n",
    "                print(packet[TCP].payload)\n",
    "        except:\n",
    "            pass"
   ]
  },
  {
   "cell_type": "markdown",
   "metadata": {},
   "source": [
    "#### Scapy - sniff offline"
   ]
  },
  {
   "cell_type": "code",
   "execution_count": null,
   "metadata": {},
   "outputs": [],
   "source": [
    "def packetHandler(pkt):\n",
    "    try:\n",
    "        if pkt.haslayer(Dot11):\n",
    "            if pkt.type == 0 and pkt.subtype == 8 :\n",
    "                print(\"Available SSID: {} wlan: {}\".format(pkt.info, pkt.addr2))\n",
    "    except:\n",
    "        pass\n",
    "\n",
    "sniff(offline=sniff_file, prn=packetHandler, store=0)"
   ]
  },
  {
   "cell_type": "code",
   "execution_count": null,
   "metadata": {},
   "outputs": [],
   "source": [
    "def pktIdentifier(pkt):\n",
    "    if pkt.haslayer(Dot11Beacon):\n",
    "        print(\"[+] Detected 802.11 Beacon Frame\")\n",
    "    elif pkt.haslayer(Dot11ProbeReq):\n",
    "        print(\"[+] Detected 802.11 Probe Frame\")\n",
    "\n",
    "sniff(offline=sniff_file, prn=pktIdentifier, store=0)"
   ]
  },
  {
   "cell_type": "code",
   "execution_count": null,
   "metadata": {},
   "outputs": [],
   "source": [
    "probeReqs = []\n",
    "def sniffProbe(p):\n",
    "    if p.haslayer(Dot11ProbeReq):\n",
    "        netName = p.getlayer(Dot11ProbeReq).info\n",
    "        if netName not in probeReqs:\n",
    "            probeReqs.append(netName)\n",
    "#             print(type(netName))\n",
    "            try:\n",
    "#                 print(struct.pack('p'*len(netName), netName).decode('utf8', errors='ignore'))\n",
    "                print('struct', struct.pack('!s', netName).decode('utf8', errors='ignore'))\n",
    "                print(len(netName))\n",
    "                print('[+] Detected New Probe Request: ' + netName.decode(encoding=\"utf-8\", errors=\"ignore\"))\n",
    "                print('[+] Detected New Probe Request: ' + netName.decode(encoding=\"latin1\", errors=\"ignore\"))#decode('utf-8'), .decode('latin1')\n",
    "    #             print(binascii.hexlify(bytes(packet[TCP].payload)))\n",
    "            except:\n",
    "                pass\n",
    "            \n",
    "sniff(offline=sniff_file, prn=sniffProbe)"
   ]
  },
  {
   "cell_type": "code",
   "execution_count": null,
   "metadata": {},
   "outputs": [],
   "source": []
  }
 ],
 "metadata": {
  "language_info": {
   "name": "python",
   "pygments_lexer": "ipython3"
  }
 },
 "nbformat": 4,
 "nbformat_minor": 2
}
