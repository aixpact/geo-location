{
 "cells": [
  {
   "cell_type": "code",
   "execution_count": null,
   "metadata": {},
   "outputs": [],
   "source": [
    "# %load ../_data/standard_import.txt\n",
    "\n",
    "%matplotlib inline\n",
    "\n",
    "import numpy as np\n",
    "import pandas as pd\n",
    "import matplotlib as mpl\n",
    "import matplotlib.pyplot as plt\n",
    "import seaborn as sns\n",
    "\n",
    "plt.style.use('seaborn-white')"
   ]
  },
  {
   "cell_type": "markdown",
   "metadata": {},
   "source": [
    "## Data"
   ]
  },
  {
   "cell_type": "markdown",
   "metadata": {},
   "source": [
    "### Mapping between geoID and woeID"
   ]
  },
  {
   "cell_type": "code",
   "execution_count": null,
   "metadata": {},
   "outputs": [],
   "source": [
    "!head ../_data/geoid_woeid.txt"
   ]
  },
  {
   "cell_type": "code",
   "execution_count": null,
   "metadata": {},
   "outputs": [],
   "source": [
    "df_geo = pd.read_csv('../_data/geoid_woeid.txt', delimiter=',', header=None, low_memory=False)\n",
    "df_geo.info()"
   ]
  },
  {
   "cell_type": "code",
   "execution_count": null,
   "metadata": {},
   "outputs": [],
   "source": [
    "df_geo.columns=['geoID', 'woeID', 'geoName', 'lat', 'lon']\n",
    "df_geo.sample(3).T"
   ]
  },
  {
   "cell_type": "code",
   "execution_count": null,
   "metadata": {},
   "outputs": [],
   "source": [
    "df_geo.loc[df_geo['geoName'].str.contains('Amsterdam')]"
   ]
  },
  {
   "cell_type": "markdown",
   "metadata": {},
   "source": [
    "#### geoNames"
   ]
  },
  {
   "cell_type": "code",
   "execution_count": null,
   "metadata": {},
   "outputs": [],
   "source": [
    "!head ../_data/allcountries.txt"
   ]
  },
  {
   "cell_type": "code",
   "execution_count": null,
   "metadata": {},
   "outputs": [],
   "source": [
    "df = pd.read_csv('../_data/allcountries.txt', delimiter='\\t', header=None, low_memory=False)\n",
    "df.head(3).T"
   ]
  },
  {
   "cell_type": "markdown",
   "metadata": {},
   "source": [
    "#### The main 'geoname' table has the following fields:\n",
    "---------------------------------------------------\n",
    "__geonameid__         : integer id of record in geonames database  \n",
    "__name__              : name of geographical point (utf8) varchar(200)  \n",
    "__asciiname__         : name of geographical point in plain ascii characters, varchar(200)  \n",
    "__alternatenames__    : alternatenames, comma separated, ascii names automatically transliterated, convenience attribute   from alternatename table, varchar(10000)  \n",
    "__latitude__          : latitude in decimal degrees (wgs84)  \n",
    "__longitude__         : longitude in decimal degrees (wgs84)  \n",
    "__feature class__     : see http://www.geonames.org/export/codes.html, char(1)  \n",
    "__feature code__      : see http://www.geonames.org/export/codes.html, varchar(10)  \n",
    "__country code__      : ISO-3166 2-letter country code, 2 characters  \n",
    "__cc2__               : alternate country codes, comma separated, ISO-3166 2-letter country code, 200 characters  \n",
    "__admin1 code__       : fipscode (subject to change to iso code), see exceptions below, see file admin1Codes.txt for display names of this code; varchar(20)  \n",
    "__admin2 code__       : code for the second administrative division, a county in the US, see file admin2Codes.txt; varchar(80)   \n",
    "__admin3 code__       : code for third level administrative division, varchar(20)   \n",
    "__admin4 code__       : code for fourth level administrative division, varchar(20)  \n",
    "__population__        : bigint (8 byte int)  \n",
    "__elevation__         : in meters, integer  \n",
    "__dem__               : digital elevation model, srtm3 or gtopo30, average elevation of 3''x3'' (ca 90mx90m) or 30''x30'' (ca 900mx900m) area in meters, integer. srtm processed by cgiar/ciat.  \n",
    "__timezone__          : the iana timezone id (see file timeZone.txt) varchar(40)  \n",
    "__modification date__ : date of last modification in yyyy-MM-dd format  "
   ]
  },
  {
   "cell_type": "code",
   "execution_count": null,
   "metadata": {},
   "outputs": [],
   "source": [
    "cols = ['geonameid', 'name','asciiname', 'alternatenames','latitude', 'longitude',\n",
    "'feature class', 'feature code', 'country code', 'cc2',\n",
    "'admin1 code', 'admin2 code',   'admin3 code', 'admin4 code', \n",
    "'population', 'elevation', 'dem', 'timezone', 'modification date']\n",
    "df.columns = cols"
   ]
  },
  {
   "cell_type": "code",
   "execution_count": null,
   "metadata": {},
   "outputs": [],
   "source": [
    "df.head(5).T"
   ]
  },
  {
   "cell_type": "code",
   "execution_count": null,
   "metadata": {},
   "outputs": [],
   "source": [
    "df.info()\n",
    "df.isnull().sum()"
   ]
  },
  {
   "cell_type": "code",
   "execution_count": null,
   "metadata": {},
   "outputs": [],
   "source": [
    "cols_of_interest = ['geonameid', 'name','asciiname','latitude', 'longitude',\n",
    "'feature class', 'feature code', 'country code', \n",
    "'population','timezone', 'modification date']\n",
    "df = df[cols_of_interest]"
   ]
  },
  {
   "cell_type": "code",
   "execution_count": null,
   "metadata": {},
   "outputs": [],
   "source": []
  },
  {
   "cell_type": "code",
   "execution_count": null,
   "metadata": {},
   "outputs": [],
   "source": [
    "df_geoID = pd.merge(df, df_geo, how='left', left_on='geonameid', right_on='geoID')"
   ]
  },
  {
   "cell_type": "code",
   "execution_count": null,
   "metadata": {},
   "outputs": [],
   "source": [
    "df_geoID.info()"
   ]
  },
  {
   "cell_type": "code",
   "execution_count": null,
   "metadata": {},
   "outputs": [],
   "source": []
  },
  {
   "cell_type": "code",
   "execution_count": null,
   "metadata": {},
   "outputs": [],
   "source": []
  },
  {
   "cell_type": "code",
   "execution_count": null,
   "metadata": {},
   "outputs": [],
   "source": [
    "df_geoID.to_csv('geoID_woeID.csv')"
   ]
  },
  {
   "cell_type": "code",
   "execution_count": null,
   "metadata": {},
   "outputs": [],
   "source": [
    "df_geoID[df_geoID['feature class']=='P'].loc[df_geoID['name'].str.startswith('Amsterdam')].sort_values('population', ascending=False) "
   ]
  },
  {
   "cell_type": "code",
   "execution_count": null,
   "metadata": {},
   "outputs": [],
   "source": [
    "df[df['feature class']=='P'].loc[df['name'].str.startswith('Amsterdam')].sort_values('population', ascending=False) "
   ]
  },
  {
   "cell_type": "code",
   "execution_count": null,
   "metadata": {},
   "outputs": [],
   "source": [
    "df_geo.loc[df_geo['geoName'].str.startswith('Baam')]"
   ]
  },
  {
   "cell_type": "code",
   "execution_count": null,
   "metadata": {},
   "outputs": [],
   "source": [
    "!pwd\n"
   ]
  },
  {
   "cell_type": "code",
   "execution_count": null,
   "metadata": {},
   "outputs": [],
   "source": []
  }
 ],
 "metadata": {
  "language_info": {
   "name": "python",
   "pygments_lexer": "ipython3"
  }
 },
 "nbformat": 4,
 "nbformat_minor": 2
}
