{
 "cells": [
  {
   "cell_type": "code",
   "execution_count": null,
   "metadata": {},
   "outputs": [],
   "source": [
    "# %load ../_data/standard_import.txt\n",
    "\n",
    "%matplotlib inline\n",
    "\n",
    "import numpy as np\n",
    "import pandas as pd\n",
    "import matplotlib as mpl\n",
    "import matplotlib.pyplot as plt\n",
    "import seaborn as sns\n",
    "\n",
    "plt.style.use('seaborn-white')"
   ]
  },
  {
   "cell_type": "markdown",
   "metadata": {},
   "source": [
    "## geoPy\n",
    "\n",
    "[read the docs](http://geopy.readthedocs.io/en/stable/)"
   ]
  },
  {
   "cell_type": "code",
   "execution_count": null,
   "metadata": {},
   "outputs": [],
   "source": [
    "# !pip install geopy"
   ]
  },
  {
   "cell_type": "markdown",
   "metadata": {},
   "source": [
    "#### Nominatim - Open Street Map\n",
    "\n",
    "https://wiki.openstreetmap.org/wiki/Nominatim"
   ]
  },
  {
   "cell_type": "code",
   "execution_count": null,
   "metadata": {},
   "outputs": [],
   "source": [
    "from geopy.geocoders import Nominatim\n",
    "geolocator = Nominatim()\n",
    "location = geolocator.geocode(\"9, Singel, Amsterdam\")\n",
    "location.raw\n",
    "location.address\n",
    "(location.latitude, location.longitude)\n"
   ]
  },
  {
   "cell_type": "code",
   "execution_count": null,
   "metadata": {},
   "outputs": [],
   "source": [
    "location = geolocator.reverse(\"52.25, 4.99\")"
   ]
  },
  {
   "cell_type": "code",
   "execution_count": null,
   "metadata": {},
   "outputs": [],
   "source": [
    "from geopy.geocoders import GoogleV3\n",
    "geolocator = GoogleV3(format_string=\"%s, Netherlands\")\n",
    "address, (latitude, longitude) = geolocator.geocode(\"amsterdam\")\n",
    "address, latitude, longitude"
   ]
  },
  {
   "cell_type": "code",
   "execution_count": null,
   "metadata": {},
   "outputs": [],
   "source": [
    "from geopy.geocoders import GeoNames\n",
    "geolocator = GeoNames(username='your_user_name_here', format_string=\"%s\")\n",
    "geolocator.geocode(\"Lutjebroek\")"
   ]
  },
  {
   "cell_type": "code",
   "execution_count": null,
   "metadata": {},
   "outputs": [],
   "source": [
    "current_ip_location = !curl ipinfo.io/loc\n",
    "latlon = current_ip_location[-1].split(',')\n",
    "geolocator.reverse('{}, {}'.format(latlon[0], latlon[1]))"
   ]
  },
  {
   "cell_type": "code",
   "execution_count": null,
   "metadata": {},
   "outputs": [],
   "source": []
  },
  {
   "cell_type": "code",
   "execution_count": null,
   "metadata": {},
   "outputs": [],
   "source": [
    "ip_location = !curl ipinfo.io\n",
    "ip_location"
   ]
  },
  {
   "cell_type": "markdown",
   "metadata": {},
   "source": [
    "## Here"
   ]
  },
  {
   "cell_type": "code",
   "execution_count": null,
   "metadata": {},
   "outputs": [],
   "source": [
    "import json\n",
    "import os\n",
    "import platform\n",
    "import re\n",
    "import ssl\n",
    "import subprocess\n",
    "import requests\n",
    "import urllib.request\n",
    "from urllib.request import urlretrieve\n",
    "import plistlib\n",
    "\n",
    "from PIL import Image"
   ]
  },
  {
   "cell_type": "markdown",
   "metadata": {},
   "source": [
    "#### Credentials"
   ]
  },
  {
   "cell_type": "code",
   "execution_count": null,
   "metadata": {},
   "outputs": [],
   "source": [
    "import os, pickle\n",
    "pickle_file='../_credentials/here_credentials.pkl'\n",
    "if not os.path.exists(pickle_file):\n",
    "    Here={}\n",
    "    Here['app_id'] = 'wL...9'\n",
    "    Here['app_code'] = '9..._-A'\n",
    "    with open(pickle_file, 'wb') as f:\n",
    "        pickle.dump(Here, f)\n",
    "else:\n",
    "    Here=pickle.load(open(pickle_file,'rb'))"
   ]
  },
  {
   "cell_type": "markdown",
   "metadata": {},
   "source": [
    "### GeoPy - geolocator"
   ]
  },
  {
   "cell_type": "code",
   "execution_count": null,
   "metadata": {},
   "outputs": [],
   "source": [
    "from geopy.geocoders import Nominatim\n",
    "geolocator = Nominatim()\n",
    "location = geolocator.geocode(\"9, Singel, Amsterdam\")\n",
    "location.raw\n",
    "location.address\n",
    "(location.latitude, location.longitude)\n"
   ]
  },
  {
   "cell_type": "markdown",
   "metadata": {},
   "source": [
    "### Search address"
   ]
  },
  {
   "cell_type": "code",
   "execution_count": null,
   "metadata": {},
   "outputs": [],
   "source": [
    "def geo_address(api_url, searchtext):\n",
    "    \"\"\"Lookup address details as JSON\n",
    "    Decode UTF-8 bytes to Unicode and convert single quotes to double quotes to make it valid JSON.\n",
    "    Load the JSON to a Python list & dump it back out as formatted JSON.\"\"\"\n",
    "    \n",
    "    http = '{}?app_id={}&app_code={}&searchtext={}'.format(api_url, Here['app_id'], Here['app_code'], searchtext)\n",
    "    content = requests.get(http).content\n",
    "    my_json = content.decode('utf8').replace(\"'\", '\"')\n",
    "    data = json.loads(my_json)\n",
    "    \n",
    "    return data #json.dumps(data, indent=4, sort_keys=True)"
   ]
  },
  {
   "cell_type": "code",
   "execution_count": null,
   "metadata": {},
   "outputs": [],
   "source": [
    "def recursive_keys(json, values=False):\n",
    "    \"\"\"Recursively get keys and list items\"\"\"\n",
    "    if type(json) == dict:\n",
    "        for key, value in json.items():\n",
    "            if values==False: value = ''\n",
    "            if type(json[key]) == str: \n",
    "                print('--', key, ':',value)\n",
    "                continue\n",
    "            elif type(json[key]) == list: \n",
    "                print('list', key, ':', value)\n",
    "                recursive_keys(json[key]) # [0]\n",
    "            elif type(json[key]) == dict: \n",
    "                print('dict', key, ':', value)\n",
    "                recursive_keys(json[key])\n",
    "\n",
    "    elif type(json) == list:\n",
    "        for i, item in enumerate(json):\n",
    "            print(i, end=' ')\n",
    "            recursive_keys(json[i])"
   ]
  },
  {
   "cell_type": "code",
   "execution_count": null,
   "metadata": {},
   "outputs": [],
   "source": [
    "api_url_places = 'https://geocoder.cit.api.here.com/6.2/geocode.json'\n",
    "geo_bb = geo_address(api_url_places, '9, Singel, Amsterdam')\n",
    "geo_bb"
   ]
  },
  {
   "cell_type": "code",
   "execution_count": null,
   "metadata": {},
   "outputs": [],
   "source": [
    "geo_address(api_url_places, '9, Singel, Amsterdam')['Response']['View'][0]['Result'][0]['Location']['NavigationPosition'][0]"
   ]
  },
  {
   "cell_type": "code",
   "execution_count": null,
   "metadata": {},
   "outputs": [],
   "source": [
    "recursive_keys(geo_bb)"
   ]
  },
  {
   "cell_type": "code",
   "execution_count": null,
   "metadata": {},
   "outputs": [],
   "source": [
    "def geo_location(api_url, payload):\n",
    "    \"\"\"Lookup address details as JSON\n",
    "    Decode UTF-8 bytes to Unicode and convert single quotes to double quotes to make it valid JSON.\n",
    "    Load the JSON to a Python list & dump it back out as formatted JSON.\"\"\"\n",
    "\n",
    "    http = '{}?app_id={}&app_code={}'.format(api_url, Here['app_id'], Here['app_code'])\n",
    "    headers = {'Content-Type': 'application/json'}\n",
    "    r = requests.post(http, data=json.dumps(payload), headers=headers)\n",
    "    print(r.status_code, r.reason)\n",
    "    my_json = r.content.decode('utf8').replace(\"'\", '\"')\n",
    "    \n",
    "    return json.loads(my_json)"
   ]
  },
  {
   "cell_type": "code",
   "execution_count": null,
   "metadata": {},
   "outputs": [],
   "source": [
    "api_url_locate = 'https://pos.cit.api.here.com/positioning/v1/locate'\n",
    "payload = {\n",
    "      \"wlan\": [{\n",
    "      \"mac\": \"36:68:95:1A:36:93\",\n",
    "      \"powrx\": -74}, {\n",
    "      \"mac\": \"18:64:72:B7:BC:B2\",\n",
    "      \"powrx\": -75}, {\n",
    "      \"mac\": \"18:64:72:B7:89:21\",\n",
    "      \"powrx\": -76}, {\n",
    "      \"mac\": \"18:64:72:B7:BC:B1\",\n",
    "      \"powrx\": -77}, {\n",
    "      \"mac\": \"18:64:72:B7:B1:63\",\n",
    "      \"powrx\": -79}] }\n",
    "\n",
    "payload = {\"wlan\": [{\"mac\": \"f4:0f:24:2e:2e:b3\"},\n",
    "                   {\"mac\": \"10:41:7F:F4:0A:E9\"}]}\n",
    "\n",
    "payload = {\"gsm\": [{\n",
    "              \"mcc\": 262,\n",
    "              \"mnc\": 1,\n",
    "              \"lac\": 5126,\n",
    "              \"cid\": 21857}]}\n",
    "\n",
    "loc_bb = geo_location(api_url_locate, payload)\n",
    "loc_bb"
   ]
  },
  {
   "cell_type": "code",
   "execution_count": null,
   "metadata": {},
   "outputs": [],
   "source": [
    "def rev_geocoder(lat, lon):\n",
    "    results = json.load(urllib.request.urlopen(\n",
    "        '{}{},{},1000&mode=retrieveAddresses&maxResults=3&gen=8&app_id={}&app_code={}'.format(\n",
    "            rev_geocoder_url, lat, lon, Here['app_id'], Here['app_code']), context=context)\n",
    "                       )['Response']['View'][0]['Result']\n",
    "    for result in results:\n",
    "        if result['MatchQuality'].get('Street'):\n",
    "            address = result['Location']['Address']['Label']\n",
    "            break\n",
    "        else:\n",
    "            continue\n",
    "    print('\\nHERE location: {},{} ({})'.format(lat, lon, address))\n",
    "    return address\n",
    "\n",
    "\n",
    "def mia_cicular_picture(lon, lat, radius):\n",
    "    mia_url = 'http://image.maps.api.here.com/mia/1.6/mapview?c={},{}&u={}&w=1280&h=1024' \\\n",
    "              '&app_id={}&app_code={}&t=3'.format(lat, lon, radius, Here['app_id'], Here['app_code'])\n",
    "    picFileName = \"miaPic.jpg\"\n",
    "    urlretrieve(mia_url, picFileName)\n",
    "    Image.open(picFileName).show()\n",
    "\n",
    "\n",
    "def wifi_positioning():\n",
    "    try:\n",
    "        if platform.system() == 'Windows':\n",
    "            results = subprocess.check_output([\"netsh\", \"wlan\", \"show\", \"network\", \"bssid\"])\n",
    "            results = results.decode(\"ascii\")  # needed in python 3\n",
    "            list = results.replace('\\r', '').split('\\n')\n",
    "            mac_list = set()\n",
    "            for element in list:\n",
    "                if re.match('.*BSSID.*', element):\n",
    "                    mac_list.add('{\"mac\": \"' + (element.split(' : ')[1]) + '\"}')\n",
    "        elif platform.system() == 'Darwin':\n",
    "            \n",
    "            # GET WIFI list in XML format\n",
    "            router_sniffer = '/System/Library/PrivateFrameworks/Apple80211.framework/Versions/Current/Resources/airport -s -x'\n",
    "            wifi_list = os.popen(router_sniffer).read()\n",
    "            open('wifi_plist.txt', mode='w').write(wifi_list)\n",
    "            # Convert XML to JSON/dict format\n",
    "            hotspots_plist = plistlib.loads(str.encode(wifi_list), fmt=plistlib.FMT_XML)\n",
    "#             print(hotspots_plist)\n",
    "            mac_list = set()\n",
    "            \n",
    "            for hotspot in hotspots_plist:\n",
    "#                 for key in hotspot.keys():\n",
    "#                     print(hotspot['SSID_STR'], key, hotspot[key],'\\n')\n",
    "                ssid_str = hotspot['SSID_STR']\n",
    "                bssid = hotspot['BSSID']\n",
    "                rssi = hotspot['RSSI']\n",
    "                if not re.findall('\\w\\w:\\w\\w:\\w\\w:\\w\\w:\\w\\w:\\w\\w', hotspot['BSSID']):\n",
    "                    bssid_arr = bssid.split(':')\n",
    "                    bssid_modified_arr = []\n",
    "                    for bssid_elem in bssid_arr:\n",
    "                        if len(bssid_elem) == 1:\n",
    "                            bssid_elem = '0{}'.format(bssid_elem)\n",
    "                        bssid_modified_arr.append(bssid_elem)\n",
    "                    bssid = ':'.join(bssid_modified_arr)\n",
    "                    \n",
    "                print('SSID: {}, channel: {}, Mac:{}, signal: {}'.format(ssid_str, hotspot['CHANNEL'], bssid, rssi))\n",
    "                \n",
    "                mac_list.add('{\\\"mac\\\":\\\"' + bssid + '\\\", \\\"powrx\\\":' + str(rssi) + '}')  # BSSID + Powrx\n",
    "            data = '\\n{\"wlan\":[\\n' + ',\\n'.join(i for i in mac_list) + ']}'\n",
    "            print('\\nPOST request body:\\n' + data)\n",
    "            \n",
    "            req = urllib.request.Request(url=positioning_url, data=data.encode('ascii'), headers=positioning_headers)\n",
    "            json_result = json.loads(urllib.request.urlopen(req, context=context).read().decode('utf-8'))\n",
    "            \n",
    "            lat = json_result['location']['lat']\n",
    "            lon = json_result['location']['lng']\n",
    "            latlon = '{}, {}'.format(lat, lon)\n",
    "            radius = json_result['location']['accuracy']\n",
    "    except Exception:\n",
    "        pass\n",
    "        print('wifi positioning failed, getting ip location...')\n",
    "        req = urllib.request.Request(url='http://ip-api.com/json')\n",
    "        json_result = json.load((urllib.request.urlopen(req)))\n",
    "        lat = json_result['lat']\n",
    "        lon = json_result['lon']\n",
    "        radius = 'N/A'\n",
    "    mia_cicular_picture(lon, lat, radius)\n",
    "    rev_geocoder(lat, lon)\n",
    "    print('geoPy Nominatim location: ', geolocator.reverse(latlon))\n",
    "    print('HERE lat, lon: {},{} radius: {} m'.format(lat, lon, radius))\n",
    "    print('HERE Maps: https://wego.here.com/directions/mix/{},{}/?map={},{},15'.format(lat, lon, lat, lon))\n",
    "    print('Google Maps: https://www.google.com.tw/maps/search/{},{}/@{},{},17z'.format(lat, lon, lat, lon))\n",
    "    return lat, lon"
   ]
  },
  {
   "cell_type": "code",
   "execution_count": null,
   "metadata": {},
   "outputs": [],
   "source": [
    "context = ssl._create_unverified_context()\n",
    "positioning_headers = {'Content-Type': 'application/json'}\n",
    "positioning_url = 'https://pos.api.here.com/positioning/v1/locate?app_id={}&app_code={}'.format(Here['app_id'], Here['app_code'])\n",
    "rev_geocoder_url = 'https://reverse.geocoder.api.here.com/6.2/reversegeocode.json?prox='"
   ]
  },
  {
   "cell_type": "code",
   "execution_count": null,
   "metadata": {},
   "outputs": [],
   "source": [
    "lat, lon = wifi_positioning()"
   ]
  },
  {
   "cell_type": "code",
   "execution_count": null,
   "metadata": {},
   "outputs": [],
   "source": [
    "latlon = '{}, {}'.format(lat, lon)\n",
    "latlon"
   ]
  },
  {
   "cell_type": "code",
   "execution_count": null,
   "metadata": {},
   "outputs": [],
   "source": [
    "geolocator.reverse(latlon)"
   ]
  },
  {
   "cell_type": "code",
   "execution_count": null,
   "metadata": {},
   "outputs": [],
   "source": []
  }
 ],
 "metadata": {
  "language_info": {
   "name": "python",
   "pygments_lexer": "ipython3"
  }
 },
 "nbformat": 4,
 "nbformat_minor": 2
}
